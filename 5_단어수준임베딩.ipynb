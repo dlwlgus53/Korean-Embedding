{
  "nbformat": 4,
  "nbformat_minor": 0,
  "metadata": {
    "colab": {
      "name": "5.단어수준임베딩.ipynb",
      "provenance": [],
      "collapsed_sections": [],
      "include_colab_link": true
    },
    "kernelspec": {
      "name": "python3",
      "display_name": "Python 3"
    }
  },
  "cells": [
    {
      "cell_type": "markdown",
      "metadata": {
        "id": "view-in-github",
        "colab_type": "text"
      },
      "source": [
        "<a href=\"https://colab.research.google.com/github/dlwlgus53/Korean-Embedding/blob/master/5_%EB%8B%A8%EC%96%B4%EC%88%98%EC%A4%80%EC%9E%84%EB%B2%A0%EB%94%A9.ipynb\" target=\"_parent\"><img src=\"https://colab.research.google.com/assets/colab-badge.svg\" alt=\"Open In Colab\"/></a>"
      ]
    },
    {
      "cell_type": "markdown",
      "metadata": {
        "id": "BfYN5AHCM_cc"
      },
      "source": [
        "# 5. 단어수준 임베딩"
      ]
    },
    {
      "cell_type": "code",
      "metadata": {
        "id": "rMNY29vNR2HN"
      },
      "source": [
        "root_path = '/content/drive/MyDrive/2021-1/AI데이터활용교재개발/code'\n"
      ],
      "execution_count": null,
      "outputs": []
    },
    {
      "cell_type": "markdown",
      "metadata": {
        "id": "yXX3c_b8S8Gv"
      },
      "source": [
        "## Word2Vec 실습코드"
      ]
    },
    {
      "cell_type": "code",
      "metadata": {
        "id": "-G43Vu13RyVM"
      },
      "source": [
        "# 데이터 경로와 모델 경로 지정\n",
        "corpus_fname = root_path + '/data/processed/tokenized/korquad_mecab_noun.txt'\n",
        "model_fname = root_path + '/model/word2vec'\n",
        "# word2vec 모델 로드\n",
        "from gensim.models import Word2Vec\n",
        "\n",
        "# corpus 단어별로 나누어 생성\n",
        "corpus = [sent.strip().split(\" \")for sent in open(corpus_fname,\"r\").readlines()]\n",
        "print(\"make corpus\")\n",
        "\n",
        "# 모델 학습 후 저장\n",
        "model = Word2Vec(corpus, size=100, workers=4, sg=1)\n",
        "model.save(model_fname)"
      ],
      "execution_count": null,
      "outputs": []
    },
    {
      "cell_type": "code",
      "metadata": {
        "id": "SnbTeMaGfalk"
      },
      "source": [
        "corpus[0]"
      ],
      "execution_count": null,
      "outputs": []
    },
    {
      "cell_type": "code",
      "metadata": {
        "id": "47Giga7XdcX5",
        "colab": {
          "base_uri": "https://localhost:8080/"
        },
        "outputId": "a0ae43c1-8bed-45ed-a821-51e9249f5400"
      },
      "source": [
        "from gensim.models import KeyedVectors\n",
        "\n",
        "# 모델 로드\n",
        "model = Word2Vec.load(model_fname)\n",
        "\n",
        "\n",
        "# 가장 비슷한 단어 5개 출력\n",
        "model.wv.most_similar(\"희망\", topn=5)"
      ],
      "execution_count": null,
      "outputs": [
        {
          "output_type": "execute_result",
          "data": {
            "text/plain": [
              "[('좌절', 0.8474780321121216),\n",
              " ('고집', 0.7778303623199463),\n",
              " ('제의', 0.7771428823471069),\n",
              " ('발판', 0.77425217628479),\n",
              " ('최선', 0.7693341970443726)]"
            ]
          },
          "metadata": {
            "tags": []
          },
          "execution_count": 10
        }
      ]
    },
    {
      "cell_type": "code",
      "metadata": {
        "colab": {
          "base_uri": "https://localhost:8080/",
          "height": 304
        },
        "id": "i64iGBLPuVzG",
        "outputId": "2d814565-9abf-4841-a391-000678849d52"
      },
      "source": [
        "import pandas as pd\n",
        "wordlist = model.wv.index2entity[:10]\n",
        "similarTB = pd.DataFrame()\n",
        "\n",
        "for wd in model.wv.index2entity[:10]:\n",
        "  similarTB[wd] = model.wv.most_similar(wd, topn=5)\n",
        "\n",
        "\n",
        "similarTB"
      ],
      "execution_count": null,
      "outputs": [
        {
          "output_type": "execute_result",
          "data": {
            "text/html": [
              "<div>\n",
              "<style scoped>\n",
              "    .dataframe tbody tr th:only-of-type {\n",
              "        vertical-align: middle;\n",
              "    }\n",
              "\n",
              "    .dataframe tbody tr th {\n",
              "        vertical-align: top;\n",
              "    }\n",
              "\n",
              "    .dataframe thead th {\n",
              "        text-align: right;\n",
              "    }\n",
              "</style>\n",
              "<table border=\"1\" class=\"dataframe\">\n",
              "  <thead>\n",
              "    <tr style=\"text-align: right;\">\n",
              "      <th></th>\n",
              "      <th>무엇</th>\n",
              "      <th>이름</th>\n",
              "      <th>사람</th>\n",
              "      <th>누구</th>\n",
              "      <th>미국</th>\n",
              "      <th>이후</th>\n",
              "      <th>당시</th>\n",
              "      <th>일본</th>\n",
              "      <th>시작</th>\n",
              "      <th>때문</th>\n",
              "    </tr>\n",
              "  </thead>\n",
              "  <tbody>\n",
              "    <tr>\n",
              "      <th>0</th>\n",
              "      <td>(여기, 0.47958627343177795)</td>\n",
              "      <td>(명칭, 0.5909758806228638)</td>\n",
              "      <td>(인물, 0.6569665670394897)</td>\n",
              "      <td>(누가, 0.6383832097053528)</td>\n",
              "      <td>(캐나다, 0.5710775256156921)</td>\n",
              "      <td>(직후, 0.6701639890670776)</td>\n",
              "      <td>(직후, 0.5805751085281372)</td>\n",
              "      <td>(도쿄, 0.6993147134780884)</td>\n",
              "      <td>(본격, 0.616860032081604)</td>\n",
              "      <td>(이유, 0.6950816512107849)</td>\n",
              "    </tr>\n",
              "    <tr>\n",
              "      <th>1</th>\n",
              "      <td>(일종, 0.4743133783340454)</td>\n",
              "      <td>(제목, 0.5606901049613953)</td>\n",
              "      <td>(누가, 0.5836973786354065)</td>\n",
              "      <td>(인물, 0.5954634547233582)</td>\n",
              "      <td>(영국, 0.5393205285072327)</td>\n",
              "      <td>(이듬해, 0.6056604385375977)</td>\n",
              "      <td>(시절, 0.5195189118385315)</td>\n",
              "      <td>(천황, 0.6164319515228271)</td>\n",
              "      <td>(계속, 0.4827445149421692)</td>\n",
              "      <td>(배제, 0.5836772918701172)</td>\n",
              "    </tr>\n",
              "    <tr>\n",
              "      <th>2</th>\n",
              "      <td>(유사, 0.47198814153671265)</td>\n",
              "      <td>(명은, 0.5605934858322144)</td>\n",
              "      <td>(누구, 0.564577579498291)</td>\n",
              "      <td>(사람, 0.564577579498291)</td>\n",
              "      <td>(주한, 0.5134387016296387)</td>\n",
              "      <td>(이래, 0.5957098603248596)</td>\n",
              "      <td>(계기, 0.5188313722610474)</td>\n",
              "      <td>(일본인, 0.55636066198349)</td>\n",
              "      <td>(재개, 0.4799882173538208)</td>\n",
              "      <td>(만큼, 0.5824016332626343)</td>\n",
              "    </tr>\n",
              "    <tr>\n",
              "      <th>3</th>\n",
              "      <td>(원래, 0.4612067639827728)</td>\n",
              "      <td>(별칭, 0.5014147758483887)</td>\n",
              "      <td>(루빈, 0.5213127732276917)</td>\n",
              "      <td>(이름, 0.47352278232574463)</td>\n",
              "      <td>(미군, 0.5052797198295593)</td>\n",
              "      <td>(직전, 0.5949089527130127)</td>\n",
              "      <td>(무렵, 0.4866330325603485)</td>\n",
              "      <td>(독도, 0.5351588129997253)</td>\n",
              "      <td>(무렵, 0.47856128215789795)</td>\n",
              "      <td>(마찬가지, 0.5717800855636597)</td>\n",
              "    </tr>\n",
              "    <tr>\n",
              "      <th>4</th>\n",
              "      <td>(정진, 0.4577593207359314)</td>\n",
              "      <td>(개명, 0.49482834339141846)</td>\n",
              "      <td>(모두, 0.47849956154823303)</td>\n",
              "      <td>(자크, 0.4732956290245056)</td>\n",
              "      <td>(트럼프, 0.5049138069152832)</td>\n",
              "      <td>(그해, 0.5780618786811829)</td>\n",
              "      <td>(직전, 0.48247072100639343)</td>\n",
              "      <td>(일제, 0.4895400404930115)</td>\n",
              "      <td>(마무리, 0.4633501172065735)</td>\n",
              "      <td>(어려움, 0.5706420540809631)</td>\n",
              "    </tr>\n",
              "  </tbody>\n",
              "</table>\n",
              "</div>"
            ],
            "text/plain": [
              "                          무엇  ...                          때문\n",
              "0  (여기, 0.47958627343177795)  ...    (이유, 0.6950816512107849)\n",
              "1   (일종, 0.4743133783340454)  ...    (배제, 0.5836772918701172)\n",
              "2  (유사, 0.47198814153671265)  ...    (만큼, 0.5824016332626343)\n",
              "3   (원래, 0.4612067639827728)  ...  (마찬가지, 0.5717800855636597)\n",
              "4   (정진, 0.4577593207359314)  ...   (어려움, 0.5706420540809631)\n",
              "\n",
              "[5 rows x 10 columns]"
            ]
          },
          "metadata": {
            "tags": []
          },
          "execution_count": 11
        }
      ]
    },
    {
      "cell_type": "markdown",
      "metadata": {
        "id": "vnXGUU9iT4qO"
      },
      "source": [
        "## FastText실습코드\n",
        "- https://joyhong.tistory.com/135"
      ]
    },
    {
      "cell_type": "code",
      "metadata": {
        "id": "QYT6ea63T60s",
        "colab": {
          "base_uri": "https://localhost:8080/"
        },
        "outputId": "3335a211-3d85-4668-a7aa-5e648a70a979"
      },
      "source": [
        "from gensim.models import FastText\n",
        "\n",
        "model_fname =root_path + '/model/fasttext'\n",
        "corpus_fname = root_path + '/data/processed/tokenized/ratings_mecab_noun.txt'\n",
        "\n",
        "\n",
        "# corpus 없다면 단어별로 나누어 생성\n",
        "# corpus = [sent.strip().split(\" \")for sent in open(corpus_fname,\"r\").readlines()]\n",
        "\n",
        "# 모델 학습\n",
        "print(\"학습 중\") \n",
        "model = FastText(corpus, size=100, workers=4, sg=1, iter=6, word_ngrams=5)\n",
        "\n",
        "model.save(model_fname)\n"
      ],
      "execution_count": null,
      "outputs": [
        {
          "output_type": "stream",
          "text": [
            "학습 중\n"
          ],
          "name": "stdout"
        }
      ]
    },
    {
      "cell_type": "code",
      "metadata": {
        "colab": {
          "base_uri": "https://localhost:8080/"
        },
        "id": "5oWV0WDqgDdj",
        "outputId": "18726be2-901a-4dcc-baf3-e29ec46c1553"
      },
      "source": [
        "from gensim.models import FastText \n",
        "model = FastText.load(model_fname)\n",
        "print(model.wv.most_similar(\"학교\", topn=5))\n",
        "print(model.wv.most_similar(\"초등헉교\", topn=5))\n",
        "\n",
        "\n"
      ],
      "execution_count": null,
      "outputs": [
        {
          "output_type": "stream",
          "text": [
            "[('초등', 0.7916660308837891), ('신학교', 0.7570722103118896), ('소학교', 0.750496506690979), ('의학교', 0.7503328323364258), ('중학교', 0.717424750328064)]\n",
            "[('초등', 0.9762237071990967), ('중학교', 0.8239279389381409), ('소학교', 0.8226397037506104), ('보통학교', 0.7883714437484741), ('의학교', 0.7784336805343628)]\n"
          ],
          "name": "stdout"
        }
      ]
    },
    {
      "cell_type": "code",
      "metadata": {
        "colab": {
          "base_uri": "https://localhost:8080/"
        },
        "id": "0eZIoBl3hbee",
        "outputId": "6d219c71-0a4c-4e6e-c7f9-a0a5343a6af5"
      },
      "source": [
        "import pandas as pd\n",
        "similarTB = pd.DataFrame()\n",
        "\n",
        "for wd in model.wv.index2entity[:10]:\n",
        "  print(wd)\n",
        "  similarTB[wd] = model.wv.most_similar(wd, topn=5)\n",
        "\n",
        "similarTB\n",
        "\n"
      ],
      "execution_count": null,
      "outputs": [
        {
          "output_type": "stream",
          "text": [
            "무엇\n",
            "이름\n",
            "사람\n",
            "누구\n",
            "미국\n",
            "이후\n",
            "당시\n",
            "일본\n",
            "시작\n",
            "때문\n"
          ],
          "name": "stdout"
        }
      ]
    },
    {
      "cell_type": "markdown",
      "metadata": {
        "id": "mrANDV6HR5s0"
      },
      "source": [
        ""
      ]
    },
    {
      "cell_type": "markdown",
      "metadata": {
        "id": "Np-Crv04PEI7"
      },
      "source": [
        "## Glove\n"
      ]
    },
    {
      "cell_type": "code",
      "metadata": {
        "colab": {
          "base_uri": "https://localhost:8080/"
        },
        "id": "iOKF3bPtGFwW",
        "outputId": "5c9fe392-f307-4c43-fa9b-a290a3322fde"
      },
      "source": [
        "! pip install glove-python-binary\n",
        "from glove import Corpus, Glove\n",
        "model_fname =root_path + '/model/glove'\n",
        "corpus_glove = Corpus() \n",
        "corpus_glove.fit(corpus, window=15)\n",
        "# 훈련 데이터로부터 GloVe에서 사용할 동시 등장 행렬 생성\n",
        "\n",
        "glove = Glove(no_components=100, learning_rate=0.05)#?\n",
        "glove.fit(corpus_glove.matrix, epochs=15, no_threads=4, verbose=True)\n",
        "glove.add_dictionary(corpus_glove.dictionary)\n",
        "# 학습에 이용할 쓰레드의 개수는 4로 설정, 에포크는 15\n",
        "glove.save(model_fname)"
      ],
      "execution_count": null,
      "outputs": [
        {
          "output_type": "stream",
          "text": [
            "Requirement already satisfied: glove-python-binary in /usr/local/lib/python3.7/dist-packages (0.2.0)\n",
            "Requirement already satisfied: scipy in /usr/local/lib/python3.7/dist-packages (from glove-python-binary) (1.4.1)\n",
            "Requirement already satisfied: numpy in /usr/local/lib/python3.7/dist-packages (from glove-python-binary) (1.19.5)\n",
            "Performing 15 training epochs with 4 threads\n",
            "Epoch 0\n",
            "Epoch 1\n",
            "Epoch 2\n",
            "Epoch 3\n",
            "Epoch 4\n",
            "Epoch 5\n",
            "Epoch 6\n",
            "Epoch 7\n",
            "Epoch 8\n",
            "Epoch 9\n",
            "Epoch 10\n",
            "Epoch 11\n",
            "Epoch 12\n",
            "Epoch 13\n",
            "Epoch 14\n"
          ],
          "name": "stdout"
        }
      ]
    },
    {
      "cell_type": "code",
      "metadata": {
        "colab": {
          "base_uri": "https://localhost:8080/"
        },
        "id": "Kn-0LZgTRrdN",
        "outputId": "22cd2ef1-5a76-41e9-a3eb-d4e485af35d3"
      },
      "source": [
        "# 모델 저장 후 load\n",
        "from glove import Glove\n",
        "glove = Glove.load(model_fname) \n",
        "print(glove.most_similar('희망', number=10))\n"
      ],
      "execution_count": null,
      "outputs": [
        {
          "output_type": "stream",
          "text": [
            "[('노력', 0.8746533118495083), ('웅녀', 0.8612577477066545), ('약화', 0.8577640894465396), ('재상', 0.851776139337839), ('적극', 0.8451857790452699), ('하갈', 0.8372039752739076), ('제약', 0.8347097717046211), ('정체', 0.8310317499108784), ('강조', 0.8306546926715588)]\n"
          ],
          "name": "stdout"
        }
      ]
    },
    {
      "cell_type": "code",
      "metadata": {
        "colab": {
          "base_uri": "https://localhost:8080/",
          "height": 304
        },
        "id": "1EDcM-d7IaxD",
        "outputId": "fffdfd58-2605-4ad9-9cf3-11a7971c2b66"
      },
      "source": [
        "similarTB = pd.DataFrame()\n",
        "\n",
        "for wd in wordlist:\n",
        "  similarTB[wd] = glove.most_similar(wd, number=6)\n",
        "\n",
        "similarTB"
      ],
      "execution_count": null,
      "outputs": [
        {
          "output_type": "execute_result",
          "data": {
            "text/html": [
              "<div>\n",
              "<style scoped>\n",
              "    .dataframe tbody tr th:only-of-type {\n",
              "        vertical-align: middle;\n",
              "    }\n",
              "\n",
              "    .dataframe tbody tr th {\n",
              "        vertical-align: top;\n",
              "    }\n",
              "\n",
              "    .dataframe thead th {\n",
              "        text-align: right;\n",
              "    }\n",
              "</style>\n",
              "<table border=\"1\" class=\"dataframe\">\n",
              "  <thead>\n",
              "    <tr style=\"text-align: right;\">\n",
              "      <th></th>\n",
              "      <th>무엇</th>\n",
              "      <th>이름</th>\n",
              "      <th>사람</th>\n",
              "      <th>누구</th>\n",
              "      <th>미국</th>\n",
              "      <th>이후</th>\n",
              "      <th>당시</th>\n",
              "      <th>일본</th>\n",
              "      <th>시작</th>\n",
              "      <th>때문</th>\n",
              "    </tr>\n",
              "  </thead>\n",
              "  <tbody>\n",
              "    <tr>\n",
              "      <th>0</th>\n",
              "      <td>(영욱, 1.0000000000000002)</td>\n",
              "      <td>(마를렌, 0.9999999998973148)</td>\n",
              "      <td>(악한, 0.9999977318839205)</td>\n",
              "      <td>(수습생, 0.9999999999546898)</td>\n",
              "      <td>(기연, 0.9999999998716365)</td>\n",
              "      <td>(캄차카, 0.9999999999999793)</td>\n",
              "      <td>(카루, 0.9999999999999991)</td>\n",
              "      <td>(共同, 0.9999999999999989)</td>\n",
              "      <td>(열조, 0.9999999999999534)</td>\n",
              "      <td>(아말피, 1.0)</td>\n",
              "    </tr>\n",
              "    <tr>\n",
              "      <th>1</th>\n",
              "      <td>(운드로, 1.0000000000000002)</td>\n",
              "      <td>(내시, 0.9999999998778067)</td>\n",
              "      <td>(팰런, 0.9999954129028167)</td>\n",
              "      <td>(가가린, 0.9999999999354912)</td>\n",
              "      <td>(졸리엣, 0.9999999998697869)</td>\n",
              "      <td>(격구, 0.9999999999999305)</td>\n",
              "      <td>(승강이, 0.9999999999999982)</td>\n",
              "      <td>(미사토, 0.9999999999999708)</td>\n",
              "      <td>(박성희, 0.9999999999999499)</td>\n",
              "      <td>(삼녀, 1.0)</td>\n",
              "    </tr>\n",
              "    <tr>\n",
              "      <th>2</th>\n",
              "      <td>(이포, 1.0000000000000002)</td>\n",
              "      <td>(요즈음, 0.9999999996628174)</td>\n",
              "      <td>(홍세, 0.9999936036622328)</td>\n",
              "      <td>(그리고리, 0.999999999810044)</td>\n",
              "      <td>(버락오바마, 0.9999999998558848)</td>\n",
              "      <td>(눈시울, 0.9999999999999029)</td>\n",
              "      <td>(발란스, 0.9999999999999952)</td>\n",
              "      <td>(최대진, 0.9999999999999639)</td>\n",
              "      <td>(임나, 0.9999999999998936)</td>\n",
              "      <td>(퓨마, 0.9999999999999999)</td>\n",
              "    </tr>\n",
              "    <tr>\n",
              "      <th>3</th>\n",
              "      <td>(일레르, 1.0000000000000002)</td>\n",
              "      <td>(컴필레이션, 0.999999998601127)</td>\n",
              "      <td>(명량, 0.9999921311682781)</td>\n",
              "      <td>(송선태, 0.9999999997870408)</td>\n",
              "      <td>(금단, 0.9999999996687976)</td>\n",
              "      <td>(감찰부, 0.9999999999998782)</td>\n",
              "      <td>(삼동면, 0.9999999999999951)</td>\n",
              "      <td>(열림, 0.999999999999963)</td>\n",
              "      <td>(약리, 0.9999999999998683)</td>\n",
              "      <td>(금강정, 0.9999999999999999)</td>\n",
              "    </tr>\n",
              "    <tr>\n",
              "      <th>4</th>\n",
              "      <td>(비로봉, 1.0000000000000002)</td>\n",
              "      <td>(왕기, 0.9999999985947406)</td>\n",
              "      <td>(월트, 0.9999910468724519)</td>\n",
              "      <td>(몰상식, 0.9999999997553651)</td>\n",
              "      <td>(김점, 0.9999999964336754)</td>\n",
              "      <td>(변촌, 0.9999999999998073)</td>\n",
              "      <td>(새드, 0.9999999999999933)</td>\n",
              "      <td>(계림장업단, 0.9999999999999591)</td>\n",
              "      <td>(에이드, 0.9999999999998305)</td>\n",
              "      <td>(때문, 0.9999999999999999)</td>\n",
              "    </tr>\n",
              "  </tbody>\n",
              "</table>\n",
              "</div>"
            ],
            "text/plain": [
              "                          무엇  ...                         때문\n",
              "0   (영욱, 1.0000000000000002)  ...                 (아말피, 1.0)\n",
              "1  (운드로, 1.0000000000000002)  ...                  (삼녀, 1.0)\n",
              "2   (이포, 1.0000000000000002)  ...   (퓨마, 0.9999999999999999)\n",
              "3  (일레르, 1.0000000000000002)  ...  (금강정, 0.9999999999999999)\n",
              "4  (비로봉, 1.0000000000000002)  ...   (때문, 0.9999999999999999)\n",
              "\n",
              "[5 rows x 10 columns]"
            ]
          },
          "metadata": {
            "tags": []
          },
          "execution_count": 28
        }
      ]
    }
  ]
}